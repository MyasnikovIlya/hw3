{
 "cells": [
  {
   "cell_type": "code",
   "execution_count": 34,
   "metadata": {},
   "outputs": [],
   "source": [
    "# мой рекомендательный алгоритм начинается с блока 9\n",
    "import numpy as np\n",
    "import pandas as pd\n",
    "import math\n"
   ]
  },
  {
   "cell_type": "code",
   "execution_count": 35,
   "metadata": {},
   "outputs": [],
   "source": [
    "KNN = 4\n",
    "MY_USER = 22\n",
    "NO_RATE = -1\n",
    "def readAndFormat(file):\n",
    "    table = pd.read_csv(file, delimiter=', ')\n",
    "    table = table.drop(columns=[table.columns[0]])\n",
    "    return table\n",
    "data = readAndFormat('data.csv')"
   ]
  },
  {
   "cell_type": "code",
   "execution_count": 36,
   "metadata": {},
   "outputs": [],
   "source": [
    "def getSimDict(data, relativeToUser):\n",
    "    sim = dict(zip(list(data.index.values) , [0 for i in range(len(data))]))\n",
    "    del sim[relativeToUser]\n",
    "    for user in sim.keys():\n",
    "        set = data.iloc[[user, relativeToUser]]\n",
    "        set = set.transpose()\n",
    "        set = set[(set[user] != NO_RATE) & (set[relativeToUser] != NO_RATE )]\n",
    "        sumuv = 0\n",
    "        sumuu = 0\n",
    "        sumvv = 0\n",
    "        for index, row in set.iterrows():\n",
    "            sumuv +=row[user] * row[relativeToUser]\n",
    "            sumuu +=row[user] * row[user]\n",
    "            sumvv +=row[relativeToUser] * row[relativeToUser]\n",
    "        sim[user] = round(sumuv / (math.sqrt(sumuu) * math.sqrt(sumvv)), 3)\n",
    "    return sim"
   ]
  },
  {
   "cell_type": "code",
   "execution_count": 37,
   "metadata": {},
   "outputs": [],
   "source": [
    "def headSortedDict(dictionary, n):\n",
    "    return dict(sorted(list(dictionary.items()), key=lambda x: x[1], reverse=True)[:n])\n"
   ]
  },
  {
   "cell_type": "code",
   "execution_count": 38,
   "metadata": {},
   "outputs": [],
   "source": [
    "\n",
    "def meanForDataFrame(data):\n",
    "    def tupleToMean(x):\n",
    "        l = np.array(list(filter(lambda x: x != NO_RATE, x)))\n",
    "        user = l[0]\n",
    "        l = np.delete(l, [0])\n",
    "        return [user, l.mean()]\n",
    "    return dict(list(map(tupleToMean, data.to_records())))\n",
    "\n"
   ]
  },
  {
   "cell_type": "code",
   "execution_count": 39,
   "metadata": {},
   "outputs": [],
   "source": [
    "# неоцененные фильмы\n",
    "def getUnratedMovies(data, user):\n",
    "    return list(data.loc[user][data.loc[user] == NO_RATE].keys())\n"
   ]
  },
  {
   "cell_type": "code",
   "execution_count": 40,
   "metadata": {},
   "outputs": [
    {
     "output_type": "execute_result",
     "data": {
      "text/plain": [
       "['Movie 3',\n",
       " 'Movie 6',\n",
       " 'Movie 7',\n",
       " 'Movie 9',\n",
       " 'Movie 21',\n",
       " 'Movie 22',\n",
       " 'Movie 26']"
      ]
     },
     "metadata": {},
     "execution_count": 40
    }
   ],
   "source": [
    "UNRATED = getUnratedMovies(data, MY_USER)\n",
    "UNRATED"
   ]
  },
  {
   "cell_type": "code",
   "execution_count": 41,
   "metadata": {},
   "outputs": [
    {
     "output_type": "execute_result",
     "data": {
      "text/plain": [
       "{0: 0.831,\n",
       " 1: 0.798,\n",
       " 2: 0.825,\n",
       " 3: 0.903,\n",
       " 4: 0.885,\n",
       " 5: 0.836,\n",
       " 6: 0.865,\n",
       " 7: 0.785,\n",
       " 8: 0.721,\n",
       " 9: 0.868,\n",
       " 10: 0.738,\n",
       " 11: 0.869,\n",
       " 12: 0.844,\n",
       " 13: 0.719,\n",
       " 14: 0.854,\n",
       " 15: 0.839,\n",
       " 16: 0.815,\n",
       " 17: 0.817,\n",
       " 18: 0.772,\n",
       " 19: 0.888,\n",
       " 20: 0.863,\n",
       " 21: 0.845,\n",
       " 23: 0.824,\n",
       " 24: 0.802,\n",
       " 25: 0.763,\n",
       " 26: 0.916,\n",
       " 27: 0.873,\n",
       " 28: 0.807,\n",
       " 29: 0.779,\n",
       " 30: 0.817,\n",
       " 31: 0.811,\n",
       " 32: 0.801,\n",
       " 33: 0.787,\n",
       " 34: 0.862,\n",
       " 35: 0.883,\n",
       " 36: 0.725,\n",
       " 37: 0.859,\n",
       " 38: 0.753,\n",
       " 39: 0.794}"
      ]
     },
     "metadata": {},
     "execution_count": 41
    }
   ],
   "source": [
    "SIM = getSimDict(data, MY_USER)\n",
    "SIM"
   ]
  },
  {
   "cell_type": "code",
   "execution_count": 42,
   "metadata": {},
   "outputs": [
    {
     "output_type": "execute_result",
     "data": {
      "text/plain": [
       "{26: 0.916, 3: 0.903, 19: 0.888, 4: 0.885}"
      ]
     },
     "metadata": {},
     "execution_count": 42
    }
   ],
   "source": [
    "CLOSEST_SIM = headSortedDict(SIM, KNN)\n",
    "CLOSEST_SIM"
   ]
  },
  {
   "cell_type": "code",
   "execution_count": 43,
   "metadata": {},
   "outputs": [
    {
     "output_type": "execute_result",
     "data": {
      "text/plain": [
       "{26: 3.3333333333333335,\n",
       " 3: 3.142857142857143,\n",
       " 19: 3.1818181818181817,\n",
       " 4: 3.3076923076923075,\n",
       " 22: 3.391304347826087}"
      ]
     },
     "metadata": {},
     "execution_count": 43
    }
   ],
   "source": [
    "MEANS = meanForDataFrame(data.iloc[[*list(CLOSEST_SIM.keys()), MY_USER]])\n",
    "MEANS"
   ]
  },
  {
   "cell_type": "code",
   "execution_count": 44,
   "metadata": {},
   "outputs": [
    {
     "output_type": "stream",
     "name": "stdout",
     "text": [
      "{'Movie 3': 2.651, 'Movie 6': 3.474, 'Movie 7': 2.907, 'Movie 9': 3.144, 'Movie 21': 4.084, 'Movie 22': 3.144, 'Movie 26': 3.898}\n"
     ]
    }
   ],
   "source": [
    "newRates = {}\n",
    "for film in UNRATED:\n",
    "    sumt = 0\n",
    "    sumb = 0\n",
    "    for user in CLOSEST_SIM.keys():\n",
    "        rate = data.loc[user, film]\n",
    "        if rate == NO_RATE:\n",
    "            continue \n",
    "        sumb += SIM[user]\n",
    "        sumt += SIM[user] * (data.loc[user, film] - MEANS[user])\n",
    "    newRates[film] = round(MEANS[MY_USER] + sumt/sumb, 3)\n",
    "\n",
    "print(newRates)"
   ]
  },
  {
   "cell_type": "code",
   "execution_count": 45,
   "metadata": {},
   "outputs": [],
   "source": [
    "dataDays = readAndFormat('context_day.csv')\n",
    "dataPlaces =readAndFormat('context_place.csv')\n",
    "DAYS = ['Sat', 'Sun']\n",
    "PLACES = ['h']"
   ]
  },
  {
   "cell_type": "code",
   "execution_count": 46,
   "metadata": {},
   "outputs": [],
   "source": [
    "# Возьмем 4 людей с наиболее близкими вкусами"
   ]
  },
  {
   "cell_type": "code",
   "execution_count": 47,
   "metadata": {},
   "outputs": [
    {
     "output_type": "stream",
     "name": "stdout",
     "text": [
      "{'Movie 3': 2.223, 'Movie 6': 2.523, 'Movie 7': 2.855, 'Movie 9': 3.058, 'Movie 21': 3.391, 'Movie 22': 2.229, 'Movie 26': 4.145}\n"
     ]
    }
   ],
   "source": [
    "# посчитаем оценку фильмов, которые не смотрел пользователь как выше, но добавим контекстый вес:\n",
    "# для учета оценки, хотя бы 1 контекст должен совпасть \n",
    "# если совпали оба контекста, учтем оценку дополнительный раз, тем самым, увеличим ее все\n",
    "newRatesWithContext = {}\n",
    "for film in UNRATED:\n",
    "    sumt = 0\n",
    "    sumb = 0\n",
    "    for user in CLOSEST_SIM.keys():\n",
    "        rate = data.loc[user, film]\n",
    "        if rate == NO_RATE:\n",
    "            continue \n",
    "        if dataDays.loc[user, film] in DAYS:\n",
    "            sumb += SIM[user]\n",
    "            sumt += SIM[user] * (data.loc[user, film] - MEANS[user])\n",
    "        if dataPlaces.loc[user, film] in PLACES:\n",
    "            sumb += SIM[user]\n",
    "            sumt += SIM[user] * (data.loc[user, film] - MEANS[user])\n",
    "    newRatesWithContext[film] = round(MEANS[MY_USER] + (sumt/sumb if sumb !=0 else 0) , 3)\n",
    "\n",
    "print(newRatesWithContext)"
   ]
  },
  {
   "cell_type": "code",
   "execution_count": 48,
   "metadata": {},
   "outputs": [
    {
     "output_type": "execute_result",
     "data": {
      "text/plain": [
       "{'Movie 26': 4.145}"
      ]
     },
     "metadata": {},
     "execution_count": 48
    }
   ],
   "source": [
    "# выбирем фильм с наибольшей оценкой\n",
    "BEST_SUGGESTION = headSortedDict(newRatesWithContext, 1)\n",
    "BEST_SUGGESTION"
   ]
  },
  {
   "cell_type": "code",
   "execution_count": 49,
   "metadata": {},
   "outputs": [
    {
     "output_type": "stream",
     "name": "stdout",
     "text": [
      "{'user': 23, '1': {'Movie 3': 2.651, 'Movie 6': 3.474, 'Movie 7': 2.907, 'Movie 9': 3.144, 'Movie 21': 4.084, 'Movie 22': 3.144, 'Movie 26': 3.898}, '2': {'Movie 26': 4.145}}\n"
     ]
    }
   ],
   "source": [
    "# формируем результат и пишем в json\n",
    "result = {\n",
    "    'user': MY_USER + 1,\n",
    "    '1': newRates,\n",
    "    '2': BEST_SUGGESTION\n",
    "}\n",
    "print(result)\n",
    "import json\n",
    "with open('result.json', 'w') as fp:\n",
    "    json.dump(result, fp, indent=4)"
   ]
  },
  {
   "cell_type": "code",
   "execution_count": 50,
   "metadata": {},
   "outputs": [
    {
     "output_type": "stream",
     "name": "stdout",
     "text": [
      "       index                                               name\n0    Movie 1                           The Shawshank Redemption\n1    Movie 2                                      The Godfather\n2    Movie 3                             The Godfather: Part II\n3    Movie 4                                    The Dark Knight\n4    Movie 5                                       12 Angry Men\n5    Movie 6                                   Schindler's List\n6    Movie 7      The Lord of the Rings: The Return of the King\n7    Movie 8                                       Pulp Fiction\n8    Movie 9                      The Good the Bad and the Ugly\n9   Movie 10                                         Fight Club\n10  Movie 11  The Lord of the Rings: The Fellowship of the Ring\n11  Movie 12                                       Forrest Gump\n12  Movie 13     Star Wars: Episode V - The Empire Strikes Back\n13  Movie 14                                          Inception\n14  Movie 15              The Lord of the Rings: The Two Towers\n15  Movie 16                    One Flew Over the Cuckoo's Nest\n16  Movie 17                                         Goodfellas\n17  Movie 18                                         The Matrix\n18  Movie 19                                      Seven Samurai\n19  Movie 20                                        City of God\n20  Movie 21                                              Se7en\n21  Movie 22                 Star Wars: Episode IV - A New Hope\n22  Movie 23                           The Silence of the Lambs\n23  Movie 24                              It's a Wonderful Life\n24  Movie 25                                  Life Is Beautiful\n25  Movie 26                                 The Usual Suspects\n26  Movie 27                                      Spirited Away\n27  Movie 28                                Saving Private Ryan\n28  Movie 29                             Leon: The Professional\n29  Movie 30                                     The Green Mile\n"
     ]
    },
    {
     "output_type": "execute_result",
     "data": {
      "text/plain": [
       "['The Godfather: Part II',\n",
       " \"Schindler's List\",\n",
       " 'The Lord of the Rings: The Return of the King',\n",
       " 'The Good the Bad and the Ugly',\n",
       " 'Se7en',\n",
       " 'Star Wars: Episode IV - A New Hope',\n",
       " 'The Usual Suspects']"
      ]
     },
     "metadata": {},
     "execution_count": 50
    }
   ],
   "source": [
    "# 3.2\n",
    "# Берем называния фильмов и мапим их к wikiId\n",
    "movieNames = pd.read_csv('movie_names.csv', delimiter=', ', names = ['index', 'name'])\n",
    "print(movieNames)\n",
    "movies = list(map(lambda x: x, newRates.keys()))\n",
    "names = []\n",
    "for m in movies:\n",
    "     names.append(movieNames[movieNames['index'] == m].values[0][1])\n",
    "names"
   ]
  },
  {
   "cell_type": "code",
   "execution_count": 51,
   "metadata": {},
   "outputs": [
    {
     "output_type": "execute_result",
     "data": {
      "text/plain": [
       "{'The Godfather: Part II': 'Q202326',\n",
       " \"Schindler's List\": 'Q483941',\n",
       " 'The Lord of the Rings: The Return of the King': 'Q131074',\n",
       " 'The Good the Bad and the Ugly': 'Q33851544',\n",
       " 'Se7en': 'Q190908',\n",
       " 'Star Wars: Episode IV - A New Hope': 'Q17738',\n",
       " 'The Usual Suspects': 'Q132351'}"
      ]
     },
     "metadata": {},
     "execution_count": 51
    }
   ],
   "source": [
    "wikiIds = {}\n",
    "from SPARQLWrapper import SPARQLWrapper, JSON\n",
    "import requests\n",
    "API_ENDPOINT = \"https://www.wikidata.org/w/api.php\"\n",
    "for name in names:\n",
    "    params = {\n",
    "        'action' : 'wbsearchentities',\n",
    "        'format' : 'json',\n",
    "        'language' : 'en',\n",
    "        'search': name\n",
    "    }\n",
    "    res = requests.get(API_ENDPOINT, params = params)\n",
    "    wikiIds[name] = res.json()['search'][0]['id']\n",
    "wikiIds"
   ]
  },
  {
   "cell_type": "code",
   "execution_count": 52,
   "metadata": {},
   "outputs": [
    {
     "output_type": "execute_result",
     "data": {
      "text/plain": [
       "{'The Godfather: Part II': [{'name': 'Eleanor Coppola',\n",
       "   'dateOfBirth': '1936-05-04T00:00:00Z'}],\n",
       " \"Schindler's List\": [{'name': 'Kate Capshaw',\n",
       "   'dateOfBirth': '1953-11-03T00:00:00Z'}],\n",
       " 'The Lord of the Rings: The Return of the King': [{'name': 'Fran Walsh',\n",
       "   'dateOfBirth': '1959-01-10T00:00:00Z'}],\n",
       " 'The Good the Bad and the Ugly': [],\n",
       " 'Se7en': [],\n",
       " 'Star Wars: Episode IV - A New Hope': [{'name': 'Marcia Lucas',\n",
       "   'dateOfBirth': '1945-10-04T00:00:00Z'},\n",
       "  {'name': 'Mellody Hobson', 'dateOfBirth': '1969-04-03T00:00:00Z'}],\n",
       " 'The Usual Suspects': []}"
      ]
     },
     "metadata": {},
     "execution_count": 52
    }
   ],
   "source": [
    "sparql = SPARQLWrapper(\"https://query.wikidata.org/sparql\")\n",
    "spouse = {}\n",
    "for [name, wikiId] in list(wikiIds.items()):\n",
    "    sparql_query = \"\"\"\n",
    "SELECT ?wifu ?wifuLabel ?date WHERE {\n",
    "  ?film wdt:P57 ?director FILTER(?film = wd:\"\"\" + wikiId +        \"\"\").\n",
    "  ?wifu (wdt:P26|wdt:P451) ?director;\n",
    "                           wdt:P569 ?date.\n",
    "  SERVICE wikibase:label { bd:serviceParam wikibase:language \"[AUTO_LANGUAGE],en\". }\n",
    "}\"\"\"\n",
    "\n",
    "    sparql.setQuery(sparql_query)\n",
    "\n",
    "    sparql.setReturnFormat(JSON)\n",
    "    results = sparql.query().convert()\n",
    "    results_df = pd.io.json.json_normalize(results['results']['bindings'])\n",
    "    if results_df.size != 0:\n",
    "        names = results_df[['wifuLabel.value', 'date.value']]['wifuLabel.value'].values\n",
    "        dates = results_df[['wifuLabel.value', 'date.value']]['date.value'].values\n",
    "        spouse[name] = []\n",
    "        for i in range(len(names)):\n",
    "            spouse[name].append({ \"name\": names[i], \"dateOfBirth\": dates[i] })\n",
    "    else:\n",
    "        spouse[name] = []\n",
    "spouse"
   ]
  },
  {
   "cell_type": "code",
   "execution_count": null,
   "metadata": {},
   "outputs": [],
   "source": []
  }
 ],
 "metadata": {
  "kernelspec": {
   "display_name": "Python 3",
   "language": "python",
   "name": "python3"
  },
  "language_info": {
   "codemirror_mode": {
    "name": "ipython",
    "version": 3
   },
   "file_extension": ".py",
   "mimetype": "text/x-python",
   "name": "python",
   "nbconvert_exporter": "python",
   "pygments_lexer": "ipython3",
   "version": "3.8.3-final"
  }
 },
 "nbformat": 4,
 "nbformat_minor": 4
}